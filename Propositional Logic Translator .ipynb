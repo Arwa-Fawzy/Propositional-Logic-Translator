{
 "cells": [
  {
   "cell_type": "code",
   "execution_count": 1,
   "id": "658c11ab",
   "metadata": {},
   "outputs": [],
   "source": [
    "#import necessary packages\n",
    "import re\n",
    "import textwrap\n"
   ]
  },
  {
   "cell_type": "code",
   "execution_count": 41,
   "id": "d6c4632b",
   "metadata": {},
   "outputs": [],
   "source": [
    "def logic(output, *rules):\n",
    "    #Matching rule for input text to know which propositional logic it matches\n",
    "    return (output, [propositional_logic(i) + '$' for i in rules])\n"
   ]
  },
  {
   "cell_type": "code",
   "execution_count": 42,
   "id": "85dcd62d",
   "metadata": {},
   "outputs": [],
   "source": [
    "def propositional_logic(i):\n",
    "    #match the selected keyword with the selected rule\n",
    "    return re.sub('{(.)}', r'(?P<\\1>.+?)', i)"
   ]
  },
  {
   "cell_type": "code",
   "execution_count": 43,
   "id": "ede83d0a",
   "metadata": {},
   "outputs": [],
   "source": [
    "def word(w):\n",
    "    #returning the output as words not as letters\n",
    "    return r'\\b' + w + r'\\b' "
   ]
  },
  {
   "cell_type": "code",
   "execution_count": 44,
   "id": "e112aefd",
   "metadata": {},
   "outputs": [
    {
     "data": {
      "text/plain": [
       "(('{P} ⇒ {Q}',\n",
       "  ['if (?P<P>.+?) then (?P<Q>.+?)$', 'if (?P<P>.+?), (?P<Q>.+?)$']),)"
      ]
     },
     "execution_count": 44,
     "metadata": {},
     "output_type": "execute_result"
    }
   ],
   "source": [
    "\n",
    "logic('{P} ⇒ {Q}', 'if {P} then {Q}', 'if {P}, {Q}'),\n"
   ]
  },
  {
   "cell_type": "code",
   "execution_count": 10,
   "id": "3930ec4b",
   "metadata": {},
   "outputs": [],
   "source": [
    "rules = [\n",
    "    logic('{P} ⇒ {Q}',         'if {P} then {Q}', 'if {P}, {Q}'),\n",
    "    logic('{P} ⋁ {Q}',          'either {P} or else {Q}', 'either {P} or {Q}'),\n",
    "    logic('{P} ⋀ {Q}',          'both {P} and {Q}'),\n",
    "    logic('～{P} ⋀ ～{Q}',       'neither {P} nor {Q}'),\n",
    "    logic('～{A}{P} ⋀ ～{A}{Q}', '{A} neither {P} nor {Q}'), \n",
    "    logic('～{Q} ⇒ {P}',        '{P} unless {Q}'),\n",
    "    logic('{P} ⇒ {Q}',          '{Q} provided that {P}', '{Q} whenever {P}', \n",
    "                               '{P} implies {Q}', '{P} therefore {Q}', \n",
    "                               '{Q}, if {P}', '{Q} if {P}', '{P} only if {Q}'),\n",
    "    logic('{P} ⋀ {Q}',          '{P} and {Q}', '{P} but {Q}'),\n",
    "    logic('{P} ⋁ {Q}',          '{P} or else {Q}', '{P} or {Q}'),\n",
    "    ]\n"
   ]
  },
  {
   "cell_type": "code",
   "execution_count": 45,
   "id": "73e83c2f",
   "metadata": {},
   "outputs": [],
   "source": [
    "# matching the negation with \n",
    "negations = [\n",
    "    (word(\"not\"), \"\"),\n",
    "    (word(\"isn't\"), \"is\"),\n",
    "    (word(\"cannot\"), \"can\"),\n",
    "    (word(\"can't\"), \"can\"),\n",
    "    (word(\"won't\"), \"will\"),\n",
    "    (\"n't\", \"\"), \n",
    "    ]"
   ]
  },
  {
   "cell_type": "code",
   "execution_count": 46,
   "id": "560ae54e",
   "metadata": {},
   "outputs": [],
   "source": [
    "def match_rules(sentence, rules, defs):\n",
    "    # match the sentences with the rules \n",
    "    sentence = clean(sentence)\n",
    "    for rule in rules:\n",
    "        result = match_rule(sentence, rule, defs)\n",
    "        if result: \n",
    "            return result\n",
    "    return match_literal(sentence, negations, defs)"
   ]
  },
  {
   "cell_type": "code",
   "execution_count": 47,
   "id": "885c28c4",
   "metadata": {},
   "outputs": [],
   "source": [
    "def check(sentence, rule, defs):\n",
    "    #check which rule is matched with the selected word and slicing the sentence into words\n",
    "    output, rules = rule\n",
    "    for pat in patterns:\n",
    "        match = re.match(pat, sentence, flags=re.I)\n",
    "        if match:\n",
    "            groups = match.groupdict()\n",
    "            for P in sorted(groups): # Applying recursion to the sentence to catch the matched word \n",
    "                groups[P] = match_rules(groups[P], rules, defs)[0]\n",
    "            return '(' + output.format(**groups) + ')', defs"
   ]
  },
  {
   "cell_type": "code",
   "execution_count": 48,
   "id": "e7a2b600",
   "metadata": {},
   "outputs": [],
   "source": [
    "def match_literal(sentence, negations, defs):\n",
    "    #if no word match or there is a negation, this block of code will handle the issues \n",
    "    polarity = ''\n",
    "    for (neg, pos) in negations:\n",
    "        (sentence, n) = re.subn(neg, pos, sentence, flags=re.I)\n",
    "        polarity += n * '～'\n",
    "    sentence = clean(sentence)\n",
    "    P = proposition_name(sentence, defs)\n",
    "    defs[P] = sentence\n",
    "    return polarity + P, defs\n",
    "    "
   ]
  },
  {
   "cell_type": "code",
   "execution_count": 62,
   "id": "1287ea46",
   "metadata": {},
   "outputs": [],
   "source": [
    "# setting some symbols to be replaced with sentences \n",
    "def prop_symbols(sentence, defs, symbols='PQRSTF'):\n",
    "    #return the symbols in the place of each selected word\n",
    "    inverted = {defs[P]: P for P in defs}\n",
    "    if sentence in inverted:\n",
    "        return inverted[sentence]                      \n",
    "    else:\n",
    "        return next(P for P in symbols if P not in defs) "
   ]
  },
  {
   "cell_type": "code",
   "execution_count": 63,
   "id": "41df74e7",
   "metadata": {},
   "outputs": [],
   "source": [
    "def handle(text): \n",
    "    # remove the repeated space, comma, dots ...etc.\n",
    "    return ' '.join(text.split()).replace(\"’\", \"'\").rstrip('.').rstrip(',')\n",
    "\n"
   ]
  },
  {
   "cell_type": "code",
   "execution_count": 67,
   "id": "0163cae8",
   "metadata": {},
   "outputs": [
    {
     "data": {
      "text/plain": [
       "('(P ⇒ Q)', {'P': 'you study hard', 'Q': 'you will pass'})"
      ]
     },
     "execution_count": 67,
     "metadata": {},
     "output_type": "execute_result"
    }
   ],
   "source": [
    "match_rule(\"If you study hard, you will pass\", logic('{P} ⇒ {Q}', 'if {P}, {Q}'),{})"
   ]
  },
  {
   "cell_type": "code",
   "execution_count": 65,
   "id": "25b6bfae",
   "metadata": {},
   "outputs": [],
   "source": [
    "# some examples of propositional sentences\n",
    "sentences = '''If it rains, then the ground is wet.\n",
    "The sun is shining and the sky is blue.\n",
    "Either it's Tuesday or it's Thursday.\n",
    "If you study hard, you'll do well on the exam.\n",
    "John is happy only if he has pizza.'''.split('.')\n"
   ]
  },
  {
   "cell_type": "code",
   "execution_count": 66,
   "id": "345b7240",
   "metadata": {},
   "outputs": [],
   "source": [
    "def rule(sentences, width=80): \n",
    "    #match the rules in each sentence of text to return the result\n",
    "    for s in map(clean, sentences):\n",
    "        logic, defs = match_rules(s, rules, {})\n",
    "        print('\\n' + textwrap.fill('Sentence: ' + s +'.', width), '\\n\\nLogic:', logic)\n",
    "        for P in sorted(defs):\n",
    "            print('{}: {}'.format(P, defs[P]))\n"
   ]
  },
  {
   "cell_type": "code",
   "execution_count": 61,
   "id": "edf7b087",
   "metadata": {},
   "outputs": [
    {
     "name": "stdout",
     "output_type": "stream",
     "text": [
      "\n",
      "Sentence: If it rains, then the ground is wet. \n",
      "\n",
      "Logic: (P ⇒ Q)\n",
      "P: it rains\n",
      "Q: the ground is wet\n",
      "\n",
      "Sentence: The sun is shining and the sky is blue. \n",
      "\n",
      "Logic: (P ⋀ Q)\n",
      "P: The sun is shining\n",
      "Q: the sky is blue\n",
      "\n",
      "Sentence: Either it's Tuesday or it's Thursday. \n",
      "\n",
      "Logic: (P ⋁ Q)\n",
      "P: it's Tuesday\n",
      "Q: it's Thursday\n",
      "\n",
      "Sentence: If you study hard, you'll do well on the exam. \n",
      "\n",
      "Logic: (P ⇒ Q)\n",
      "P: you study hard\n",
      "Q: you'll do well on the exam\n",
      "\n",
      "Sentence: John is happy only if he has pizza. \n",
      "\n",
      "Logic: (P ⇒ Q)\n",
      "P: he has pizza\n",
      "Q: John is happy only\n",
      "\n",
      "Sentence: . \n",
      "\n",
      "Logic: P\n",
      "P: \n"
     ]
    }
   ],
   "source": [
    "#calling the function to get the result\n",
    "rule(sentences)"
   ]
  },
  {
   "cell_type": "code",
   "execution_count": null,
   "id": "9b97d63c",
   "metadata": {},
   "outputs": [],
   "source": []
  }
 ],
 "metadata": {
  "kernelspec": {
   "display_name": "Python 3 (ipykernel)",
   "language": "python",
   "name": "python3"
  },
  "language_info": {
   "codemirror_mode": {
    "name": "ipython",
    "version": 3
   },
   "file_extension": ".py",
   "mimetype": "text/x-python",
   "name": "python",
   "nbconvert_exporter": "python",
   "pygments_lexer": "ipython3",
   "version": "3.10.9"
  }
 },
 "nbformat": 4,
 "nbformat_minor": 5
}
